{
  "nbformat": 4,
  "nbformat_minor": 0,
  "metadata": {
    "kernelspec": {
      "display_name": "Python 3",
      "language": "python",
      "name": "python3"
    },
    "language_info": {
      "codemirror_mode": {
        "name": "ipython",
        "version": 3
      },
      "file_extension": ".py",
      "mimetype": "text/x-python",
      "name": "python",
      "nbconvert_exporter": "python",
      "pygments_lexer": "ipython3",
      "version": "3.7.6"
    },
    "colab": {
      "name": "Stats Project.ipynb",
      "provenance": []
    }
  },
  "cells": [
    {
      "cell_type": "markdown",
      "metadata": {
        "id": "CqJXWATiK5Vy",
        "colab_type": "text"
      },
      "source": [
        "## Multivariate Linear Regression Model Development for a construction project"
      ]
    },
    {
      "cell_type": "markdown",
      "metadata": {
        "id": "xAqiGvWDK5V1",
        "colab_type": "text"
      },
      "source": [
        "In a study to examine the relationship between the time required to complete a construction project and several pertinent \n",
        "independent variables, an analyst compiled a list of three variables that might be useful in predicting the time to completion.\n",
        "These three variables were size of the contract, x1 (in $1000 unit), number of workdays adversely affected by the weather, \n",
        "x2, and the number of subcontractors involved in the project, x3. Ten construction projects were randomly chosen, and each of\n",
        "the three variables as well as the time to completion were measured. It was realized that the previous 10 projects were\n",
        "completed when there was no workers’ strike. Knowing that workers’ strike may adversely affect the timeline of the projects, \n",
        "an additional eight construction projects were also selected randomly where workers’ strike was reported during the construction \n",
        "phase."
      ]
    },
    {
      "cell_type": "code",
      "metadata": {
        "id": "aYqCU7qGK5V3",
        "colab_type": "code",
        "colab": {}
      },
      "source": [
        "import pandas as pd\n",
        "import numpy as np\n",
        "import statsmodels.api as sm\n",
        "from statsmodels.formula.api import ols\n",
        "from scipy import stats\n",
        "import seaborn as sb\n",
        "import matplotlib.pyplot as plt\n",
        "%matplotlib inline\n",
        "from sklearn.linear_model import LinearRegression"
      ],
      "execution_count": null,
      "outputs": []
    },
    {
      "cell_type": "code",
      "metadata": {
        "id": "22icprmrK5V-",
        "colab_type": "code",
        "colab": {}
      },
      "source": [
        "data=pd.read_csv('Stats_data.csv')"
      ],
      "execution_count": null,
      "outputs": []
    },
    {
      "cell_type": "code",
      "metadata": {
        "id": "117QAQX1K5WE",
        "colab_type": "code",
        "colab": {
          "base_uri": "https://localhost:8080/",
          "height": 347
        },
        "outputId": "bf8e0f22-fa94-49b3-f858-72a054dda427"
      },
      "source": [
        "print(data)"
      ],
      "execution_count": null,
      "outputs": [
        {
          "output_type": "stream",
          "text": [
            "    obs    x1  x2  x3  Worker's  Strike   y\n",
            "0     1    60   7   7                 0  29\n",
            "1     2    80  10   8                 0  15\n",
            "2     3    50  14   5                 0  10\n",
            "3     4    50   4   3                 0  15\n",
            "4     5    75   5   6                 0  30\n",
            "5     6   750  10  10                 0  45\n",
            "6     7    70   5   3                 0   7\n",
            "7     8    80   3   6                 0  21\n",
            "8     9   300   8   8                 0  28\n",
            "9    10   110   7   4                 0  30\n",
            "10   11   100   8  10                 1  60\n",
            "11   12   200  12  11                 1  70\n",
            "12   13   500  15  12                 1  75\n",
            "13   14  1200  20  12                 1  90\n",
            "14   15   250   8  12                 1  62\n",
            "15   16   400  14  14                 1  72\n",
            "16   17   800  17  12                 1  82\n",
            "17   18  2600  14  13                 1  50\n"
          ],
          "name": "stdout"
        }
      ]
    },
    {
      "cell_type": "markdown",
      "metadata": {
        "id": "8Yu7xdIzK5WK",
        "colab_type": "text"
      },
      "source": [
        " \n",
        "we need to compute whether there an impact of workers’ strike on construction project completion time, So for that we are applying t-statistics test to compare mean and finding p-value and comparing it with alpha. Consider alpha =0.05 Null hypothesis is difference in mean is zero Alternate hypothesis is difference in mean is not zero"
      ]
    },
    {
      "cell_type": "code",
      "metadata": {
        "id": "vFMaTJPsK5WL",
        "colab_type": "code",
        "colab": {}
      },
      "source": [
        "y_strike=[data['y'][i] for i in range(len(data[\"Worker's  Strike\"])) if data[\"Worker's  Strike\"][i]==1]\n",
        "y_nonstrike=[data['y'][i] for i in range(len(data[\"Worker's  Strike\"])) if data[\"Worker's  Strike\"][i]==0]"
      ],
      "execution_count": null,
      "outputs": []
    },
    {
      "cell_type": "code",
      "metadata": {
        "id": "MkbpOFj-K5WP",
        "colab_type": "code",
        "colab": {}
      },
      "source": [
        "t2, p2 = stats.ttest_ind(y_strike,y_nonstrike)"
      ],
      "execution_count": null,
      "outputs": []
    },
    {
      "cell_type": "code",
      "metadata": {
        "id": "xEiZ6PlSK5WU",
        "colab_type": "code",
        "colab": {
          "base_uri": "https://localhost:8080/",
          "height": 35
        },
        "outputId": "e0cf9e69-d1f3-48e1-dd22-4d498519f226"
      },
      "source": [
        "print(t2,p2)"
      ],
      "execution_count": null,
      "outputs": [
        {
          "output_type": "stream",
          "text": [
            "8.22057799600084 3.8896890086529434e-07\n"
          ],
          "name": "stdout"
        }
      ]
    },
    {
      "cell_type": "markdown",
      "metadata": {
        "id": "Tll9AGLrK5WY",
        "colab_type": "text"
      },
      "source": [
        "As p-value is less than alpha=0.05, hence null hypothesis is rejected and it can be concluded that there an impact of workers’ strike on construction project on completion time"
      ]
    },
    {
      "cell_type": "markdown",
      "metadata": {
        "id": "2YURjeXXK5Wa",
        "colab_type": "text"
      },
      "source": [
        "\n",
        "We need to predict whether there is an association between various predictor variables and the time required to complete a construction project. For that we can find corelation between each independent variable and dependent variable using r-square value. \n",
        "\n",
        "If r-square=0 means no correlation\n",
        "\n",
        "If -0.5 < r-square < 0.5 means weak corelation\n",
        "\n",
        "If -1 <r-square> -0.5 means strong corelation in negative direction\n",
        "    \n",
        "If 0.5 < r-square < 1 means strong corelation in positive\n"
      ]
    },
    {
      "cell_type": "code",
      "metadata": {
        "id": "VlHpo0NfK5Wb",
        "colab_type": "code",
        "colab": {
          "base_uri": "https://localhost:8080/",
          "height": 283
        },
        "outputId": "c0248953-796a-40a5-e5c3-5037cdfeae2a"
      },
      "source": [
        "model_1=LinearRegression()\n",
        "model_1.fit(data['x1'].values.reshape(18,1),data['y'].values.reshape(18,1))\n",
        "plt.scatter(data['x1'],data['y'])"
      ],
      "execution_count": null,
      "outputs": [
        {
          "output_type": "execute_result",
          "data": {
            "text/plain": [
              "<matplotlib.collections.PathCollection at 0x7fc66d3835f8>"
            ]
          },
          "metadata": {
            "tags": []
          },
          "execution_count": 10
        },
        {
          "output_type": "display_data",
          "data": {
            "image/png": "[encoded data removed]",
            "text/plain": [
              "<Figure size 432x288 with 1 Axes>"
            ]
          },
          "metadata": {
            "tags": [],
            "needs_background": "light"
          }
        }
      ]
    },
    {
      "cell_type": "code",
      "metadata": {
        "id": "_DSTdFVuK5Wg",
        "colab_type": "code",
        "colab": {
          "base_uri": "https://localhost:8080/",
          "height": 35
        },
        "outputId": "c35f5d58-da21-465c-f38c-bfc1f6a00952"
      },
      "source": [
        "model_1.score(data['x1'].values.reshape(18,1),data['y'].values.reshape(18,1))"
      ],
      "execution_count": null,
      "outputs": [
        {
          "output_type": "execute_result",
          "data": {
            "text/plain": [
              "0.18021604741471098"
            ]
          },
          "metadata": {
            "tags": []
          },
          "execution_count": 11
        }
      ]
    },
    {
      "cell_type": "markdown",
      "metadata": {
        "id": "EAhyGg0fK5Wk",
        "colab_type": "text"
      },
      "source": [
        "This r-square value depict that x1 is weakly correlated with y and relation is positive"
      ]
    },
    {
      "cell_type": "code",
      "metadata": {
        "id": "QebdFeKyK5Wl",
        "colab_type": "code",
        "colab": {
          "base_uri": "https://localhost:8080/",
          "height": 283
        },
        "outputId": "51038910-9c4a-46f1-8ba5-a0da907c070c"
      },
      "source": [
        "model_2=LinearRegression()\n",
        "model_2.fit(data['x2'].values.reshape(18,1),data['y'].values.reshape(18,1))\n",
        "plt.scatter(data['x2'],data['y'])"
      ],
      "execution_count": null,
      "outputs": [
        {
          "output_type": "execute_result",
          "data": {
            "text/plain": [
              "<matplotlib.collections.PathCollection at 0x7fc66cecbfd0>"
            ]
          },
          "metadata": {
            "tags": []
          },
          "execution_count": 12
        },
        {
          "output_type": "display_data",
          "data": {
            "image/png": "[encoded data removed]",
            "text/plain": [
              "<Figure size 432x288 with 1 Axes>"
            ]
          },
          "metadata": {
            "tags": [],
            "needs_background": "light"
          }
        }
      ]
    },
    {
      "cell_type": "code",
      "metadata": {
        "id": "h36-hBE4K5Wt",
        "colab_type": "code",
        "colab": {
          "base_uri": "https://localhost:8080/",
          "height": 35
        },
        "outputId": "43f43661-c5f6-45ec-f18e-cee8f48cdc70"
      },
      "source": [
        "model_2.score(data['x2'].values.reshape(18,1),data['y'].values.reshape(18,1))"
      ],
      "execution_count": null,
      "outputs": [
        {
          "output_type": "execute_result",
          "data": {
            "text/plain": [
              "0.5191801732994852"
            ]
          },
          "metadata": {
            "tags": []
          },
          "execution_count": 13
        }
      ]
    },
    {
      "cell_type": "markdown",
      "metadata": {
        "id": "UMd8YXLlK5Wy",
        "colab_type": "text"
      },
      "source": [
        "This r-square value depict that x2 is strongle correlated with y and relation is positive"
      ]
    },
    {
      "cell_type": "code",
      "metadata": {
        "id": "dYAeesumK5Wz",
        "colab_type": "code",
        "colab": {
          "base_uri": "https://localhost:8080/",
          "height": 283
        },
        "outputId": "9d2720ed-ac45-40b1-c173-41b5fb7c99b7"
      },
      "source": [
        "model_3=LinearRegression()\n",
        "model_3.fit(data['x3'].values.reshape(18,1),data['y'].values.reshape(18,1))\n",
        "plt.scatter(data['x3'],data['y'])"
      ],
      "execution_count": null,
      "outputs": [
        {
          "output_type": "execute_result",
          "data": {
            "text/plain": [
              "<matplotlib.collections.PathCollection at 0x7fc66ce367f0>"
            ]
          },
          "metadata": {
            "tags": []
          },
          "execution_count": 14
        },
        {
          "output_type": "display_data",
          "data": {
            "image/png": "[encoded data removed]",
            "text/plain": [
              "<Figure size 432x288 with 1 Axes>"
            ]
          },
          "metadata": {
            "tags": [],
            "needs_background": "light"
          }
        }
      ]
    },
    {
      "cell_type": "code",
      "metadata": {
        "id": "rebkdCkMK5W4",
        "colab_type": "code",
        "colab": {
          "base_uri": "https://localhost:8080/",
          "height": 35
        },
        "outputId": "c540fa78-e223-428d-e648-d22eb65b75d1"
      },
      "source": [
        "model_3.score(data['x3'].values.reshape(18,1),data['y'].values.reshape(18,1))"
      ],
      "execution_count": null,
      "outputs": [
        {
          "output_type": "execute_result",
          "data": {
            "text/plain": [
              "0.7573721113025979"
            ]
          },
          "metadata": {
            "tags": []
          },
          "execution_count": 15
        }
      ]
    },
    {
      "cell_type": "markdown",
      "metadata": {
        "id": "aqPTXqb5K5W9",
        "colab_type": "text"
      },
      "source": [
        "This r-square value depict that x3 is strongle correlated with y and relation is positive"
      ]
    },
    {
      "cell_type": "markdown",
      "metadata": {
        "id": "3adqZdwKK5W-",
        "colab_type": "text"
      },
      "source": [
        "So Final conclusion is x2 and x3 are strongly correlated while x1 is weakly correlated and all correlations are positive"
      ]
    },
    {
      "cell_type": "markdown",
      "metadata": {
        "id": "qW9GR_Z6K5W_",
        "colab_type": "text"
      },
      "source": [
        "We will fit first order model using multiple linear regression and check utility of all variables by considering null hypothesis as Coefficient of all variables =0 considering alpha=1\n"
      ]
    },
    {
      "cell_type": "code",
      "metadata": {
        "id": "l8rNcihlK5XA",
        "colab_type": "code",
        "colab": {}
      },
      "source": [
        "X=data[[\"x1\",\"x2\",\"x3\",\"Worker's  Strike\"]]"
      ],
      "execution_count": null,
      "outputs": []
    },
    {
      "cell_type": "code",
      "metadata": {
        "id": "Ra0p8-PmK5XF",
        "colab_type": "code",
        "colab": {
          "base_uri": "https://localhost:8080/",
          "height": 572
        },
        "outputId": "93c894b5-bc50-4f72-bd40-50c9dcf354b6"
      },
      "source": [
        "X=sm.add_constant(X)        #to add constant in the model\n",
        "model= sm.OLS(data['y'],X).fit()         #fitting the model\n",
        "predictions= model.summary()      #summary of the model\n",
        "predictions"
      ],
      "execution_count": null,
      "outputs": [
        {
          "output_type": "stream",
          "text": [
            "/usr/local/lib/python3.6/dist-packages/scipy/stats/stats.py:1535: UserWarning: kurtosistest only valid for n>=20 ... continuing anyway, n=18\n",
            "  \"anyway, n=%i\" % int(n))\n"
          ],
          "name": "stderr"
        },
        {
          "output_type": "execute_result",
          "data": {
            "text/html": [
              "<table class=\"simpletable\">\n",
              "<caption>OLS Regression Results</caption>\n",
              "<tr>\n",
              "  <th>Dep. Variable:</th>            <td>y</td>        <th>  R-squared:         </th> <td>   0.870</td>\n",
              "</tr>\n",
              "<tr>\n",
              "  <th>Model:</th>                   <td>OLS</td>       <th>  Adj. R-squared:    </th> <td>   0.830</td>\n",
              "</tr>\n",
              "<tr>\n",
              "  <th>Method:</th>             <td>Least Squares</td>  <th>  F-statistic:       </th> <td>   21.78</td>\n",
              "</tr>\n",
              "<tr>\n",
              "  <th>Date:</th>             <td>Sat, 29 Aug 2020</td> <th>  Prob (F-statistic):</th> <td>1.15e-05</td>\n",
              "</tr>\n",
              "<tr>\n",
              "  <th>Time:</th>                 <td>07:46:05</td>     <th>  Log-Likelihood:    </th> <td> -65.842</td>\n",
              "</tr>\n",
              "<tr>\n",
              "  <th>No. Observations:</th>      <td>    18</td>      <th>  AIC:               </th> <td>   141.7</td>\n",
              "</tr>\n",
              "<tr>\n",
              "  <th>Df Residuals:</th>          <td>    13</td>      <th>  BIC:               </th> <td>   146.1</td>\n",
              "</tr>\n",
              "<tr>\n",
              "  <th>Df Model:</th>              <td>     4</td>      <th>                     </th>     <td> </td>   \n",
              "</tr>\n",
              "<tr>\n",
              "  <th>Covariance Type:</th>      <td>nonrobust</td>    <th>                     </th>     <td> </td>   \n",
              "</tr>\n",
              "</table>\n",
              "<table class=\"simpletable\">\n",
              "<tr>\n",
              "          <td></td>            <th>coef</th>     <th>std err</th>      <th>t</th>      <th>P>|t|</th>  <th>[0.025</th>    <th>0.975]</th>  \n",
              "</tr>\n",
              "<tr>\n",
              "  <th>const</th>            <td>   -0.0657</td> <td>   10.197</td> <td>   -0.006</td> <td> 0.995</td> <td>  -22.096</td> <td>   21.964</td>\n",
              "</tr>\n",
              "<tr>\n",
              "  <th>x1</th>               <td>   -0.0062</td> <td>    0.005</td> <td>   -1.157</td> <td> 0.268</td> <td>   -0.018</td> <td>    0.005</td>\n",
              "</tr>\n",
              "<tr>\n",
              "  <th>x2</th>               <td>    1.0936</td> <td>    0.833</td> <td>    1.312</td> <td> 0.212</td> <td>   -0.707</td> <td>    2.894</td>\n",
              "</tr>\n",
              "<tr>\n",
              "  <th>x3</th>               <td>    2.6822</td> <td>    1.614</td> <td>    1.661</td> <td> 0.121</td> <td>   -0.805</td> <td>    6.170</td>\n",
              "</tr>\n",
              "<tr>\n",
              "  <th>Worker's  Strike</th> <td>   27.9443</td> <td>   10.284</td> <td>    2.717</td> <td> 0.018</td> <td>    5.726</td> <td>   50.162</td>\n",
              "</tr>\n",
              "</table>\n",
              "<table class=\"simpletable\">\n",
              "<tr>\n",
              "  <th>Omnibus:</th>       <td> 0.498</td> <th>  Durbin-Watson:     </th> <td>   1.856</td>\n",
              "</tr>\n",
              "<tr>\n",
              "  <th>Prob(Omnibus):</th> <td> 0.780</td> <th>  Jarque-Bera (JB):  </th> <td>   0.577</td>\n",
              "</tr>\n",
              "<tr>\n",
              "  <th>Skew:</th>          <td>-0.305</td> <th>  Prob(JB):          </th> <td>   0.749</td>\n",
              "</tr>\n",
              "<tr>\n",
              "  <th>Kurtosis:</th>      <td> 2.369</td> <th>  Cond. No.          </th> <td>3.81e+03</td>\n",
              "</tr>\n",
              "</table><br/><br/>Warnings:<br/>[1] Standard Errors assume that the covariance matrix of the errors is correctly specified.<br/>[2] The condition number is large, 3.81e+03. This might indicate that there are<br/>strong multicollinearity or other numerical problems."
            ],
            "text/plain": [
              "<class 'statsmodels.iolib.summary.Summary'>\n",
              "\"\"\"\n",
              "                            OLS Regression Results                            \n",
              "==============================================================================\n",
              "Dep. Variable:                      y   R-squared:                       0.870\n",
              "Model:                            OLS   Adj. R-squared:                  0.830\n",
              "Method:                 Least Squares   F-statistic:                     21.78\n",
              "Date:                Sat, 29 Aug 2020   Prob (F-statistic):           1.15e-05\n",
              "Time:                        07:46:05   Log-Likelihood:                -65.842\n",
              "No. Observations:                  18   AIC:                             141.7\n",
              "Df Residuals:                      13   BIC:                             146.1\n",
              "Df Model:                           4                                         \n",
              "Covariance Type:            nonrobust                                         \n",
              "====================================================================================\n",
              "                       coef    std err          t      P>|t|      [0.025      0.975]\n",
              "------------------------------------------------------------------------------------\n",
              "const               -0.0657     10.197     -0.006      0.995     -22.096      21.964\n",
              "x1                  -0.0062      0.005     -1.157      0.268      -0.018       0.005\n",
              "x2                   1.0936      0.833      1.312      0.212      -0.707       2.894\n",
              "x3                   2.6822      1.614      1.661      0.121      -0.805       6.170\n",
              "Worker's  Strike    27.9443     10.284      2.717      0.018       5.726      50.162\n",
              "==============================================================================\n",
              "Omnibus:                        0.498   Durbin-Watson:                   1.856\n",
              "Prob(Omnibus):                  0.780   Jarque-Bera (JB):                0.577\n",
              "Skew:                          -0.305   Prob(JB):                        0.749\n",
              "Kurtosis:                       2.369   Cond. No.                     3.81e+03\n",
              "==============================================================================\n",
              "\n",
              "Warnings:\n",
              "[1] Standard Errors assume that the covariance matrix of the errors is correctly specified.\n",
              "[2] The condition number is large, 3.81e+03. This might indicate that there are\n",
              "strong multicollinearity or other numerical problems.\n",
              "\"\"\""
            ]
          },
          "metadata": {
            "tags": []
          },
          "execution_count": 17
        }
      ]
    },
    {
      "cell_type": "markdown",
      "metadata": {
        "id": "F2rAoJ1yK5XK",
        "colab_type": "text"
      },
      "source": [
        "To check which predicor is important, we will have to see that null hypothesis which we assumed that coefficients of all variables is zero, which can be checked using p-value, if p<alpha null hypothesis is rejected. As p-value we got is 2-tailed and we need 1-tailed value so divide p-value by 2\n",
        "\n",
        "a) For x1:\n",
        "p=0.995/2=0.498>0.05, Hence predictor variable x1 is not important\n",
        "\n",
        "b)For x2:\n",
        "p=0.268/2=0.134>0.05, Hence predictor variable x2 is not important\n",
        "\n",
        "c)For x3:\n",
        "p=0.121/2=0.111>0.05, Hence predictor variable x3 is not important\n",
        "\n",
        "d)For worker's strike:\n",
        "p=0.018/2=0.009<0.05, Hence predictor variable worker's strike is important"
      ]
    },
    {
      "cell_type": "markdown",
      "metadata": {
        "id": "0sd22y_tK5XL",
        "colab_type": "text"
      },
      "source": [
        "Sign of the coefficient x1 is negative which indicate that it is negatively correlated, while in previous part, it was depicted that relation is positive."
      ]
    },
    {
      "cell_type": "code",
      "metadata": {
        "id": "icDXW7UZK5XM",
        "colab_type": "code",
        "colab": {
          "base_uri": "https://localhost:8080/",
          "height": 35
        },
        "outputId": "7a97d7bf-187f-4682-d764-14a25e37091e"
      },
      "source": [
        "y_pred=model.predict(X)\n",
        "error=np.sum([(data['y']-y_pred)**2])\n",
        "print(error)\n"
      ],
      "execution_count": null,
      "outputs": [
        {
          "output_type": "stream",
          "text": [
            "1584.8895759463646\n"
          ],
          "name": "stdout"
        }
      ]
    },
    {
      "cell_type": "markdown",
      "metadata": {
        "id": "htxLGfKTK5XQ",
        "colab_type": "text"
      },
      "source": [
        "So,1584.889 variability in y is not explained by model\n",
        "\n",
        "In terms of fraction variability not explained out of total variability is (1-r-square) i.e\n",
        "\n",
        "1-0.830=0.170\n"
      ]
    },
    {
      "cell_type": "code",
      "metadata": {
        "id": "aZl8V_M_K5XR",
        "colab_type": "code",
        "colab": {}
      },
      "source": [
        "data['x1'] = data['x1'].apply(lambda x: np.log(x + 1))"
      ],
      "execution_count": null,
      "outputs": []
    },
    {
      "cell_type": "code",
      "metadata": {
        "id": "5cK25yLKK5XV",
        "colab_type": "code",
        "colab": {
          "base_uri": "https://localhost:8080/",
          "height": 347
        },
        "outputId": "0295fd61-a435-435e-f4f2-7ff28d31d872"
      },
      "source": [
        "print(data)"
      ],
      "execution_count": null,
      "outputs": [
        {
          "output_type": "stream",
          "text": [
            "    obs        x1  x2  x3  Worker's  Strike   y\n",
            "0     1  4.110874   7   7                 0  29\n",
            "1     2  4.394449  10   8                 0  15\n",
            "2     3  3.931826  14   5                 0  10\n",
            "3     4  3.931826   4   3                 0  15\n",
            "4     5  4.330733   5   6                 0  30\n",
            "5     6  6.621406  10  10                 0  45\n",
            "6     7  4.262680   5   3                 0   7\n",
            "7     8  4.394449   3   6                 0  21\n",
            "8     9  5.707110   8   8                 0  28\n",
            "9    10  4.709530   7   4                 0  30\n",
            "10   11  4.615121   8  10                 1  60\n",
            "11   12  5.303305  12  11                 1  70\n",
            "12   13  6.216606  15  12                 1  75\n",
            "13   14  7.090910  20  12                 1  90\n",
            "14   15  5.525453   8  12                 1  62\n",
            "15   16  5.993961  14  14                 1  72\n",
            "16   17  6.685861  17  12                 1  82\n",
            "17   18  7.863651  14  13                 1  50\n"
          ],
          "name": "stdout"
        }
      ]
    },
    {
      "cell_type": "code",
      "metadata": {
        "id": "VpEoa1MDK5XZ",
        "colab_type": "code",
        "colab": {
          "base_uri": "https://localhost:8080/",
          "height": 537
        },
        "outputId": "db130f74-53c7-4029-fe4b-9a67e075225e"
      },
      "source": [
        "X_modified=data[[\"x1\",\"x2\",\"x3\",\"Worker's  Strike\"]]\n",
        "X_modified=sm.add_constant(X_modified)        \n",
        "model_modified= sm.OLS(data['y'],X_modified).fit()         \n",
        "predictions_modified= model_modified.summary()      \n",
        "predictions_modified"
      ],
      "execution_count": null,
      "outputs": [
        {
          "output_type": "stream",
          "text": [
            "/usr/local/lib/python3.6/dist-packages/scipy/stats/stats.py:1535: UserWarning: kurtosistest only valid for n>=20 ... continuing anyway, n=18\n",
            "  \"anyway, n=%i\" % int(n))\n"
          ],
          "name": "stderr"
        },
        {
          "output_type": "execute_result",
          "data": {
            "text/html": [
              "<table class=\"simpletable\">\n",
              "<caption>OLS Regression Results</caption>\n",
              "<tr>\n",
              "  <th>Dep. Variable:</th>            <td>y</td>        <th>  R-squared:         </th> <td>   0.859</td>\n",
              "</tr>\n",
              "<tr>\n",
              "  <th>Model:</th>                   <td>OLS</td>       <th>  Adj. R-squared:    </th> <td>   0.816</td>\n",
              "</tr>\n",
              "<tr>\n",
              "  <th>Method:</th>             <td>Least Squares</td>  <th>  F-statistic:       </th> <td>   19.87</td>\n",
              "</tr>\n",
              "<tr>\n",
              "  <th>Date:</th>             <td>Sat, 29 Aug 2020</td> <th>  Prob (F-statistic):</th> <td>1.91e-05</td>\n",
              "</tr>\n",
              "<tr>\n",
              "  <th>Time:</th>                 <td>07:46:05</td>     <th>  Log-Likelihood:    </th> <td> -66.557</td>\n",
              "</tr>\n",
              "<tr>\n",
              "  <th>No. Observations:</th>      <td>    18</td>      <th>  AIC:               </th> <td>   143.1</td>\n",
              "</tr>\n",
              "<tr>\n",
              "  <th>Df Residuals:</th>          <td>    13</td>      <th>  BIC:               </th> <td>   147.6</td>\n",
              "</tr>\n",
              "<tr>\n",
              "  <th>Df Model:</th>              <td>     4</td>      <th>                     </th>     <td> </td>   \n",
              "</tr>\n",
              "<tr>\n",
              "  <th>Covariance Type:</th>      <td>nonrobust</td>    <th>                     </th>     <td> </td>   \n",
              "</tr>\n",
              "</table>\n",
              "<table class=\"simpletable\">\n",
              "<tr>\n",
              "          <td></td>            <th>coef</th>     <th>std err</th>      <th>t</th>      <th>P>|t|</th>  <th>[0.025</th>    <th>0.975]</th>  \n",
              "</tr>\n",
              "<tr>\n",
              "  <th>const</th>            <td>   -1.5612</td> <td>   14.635</td> <td>   -0.107</td> <td> 0.917</td> <td>  -33.179</td> <td>   30.057</td>\n",
              "</tr>\n",
              "<tr>\n",
              "  <th>x1</th>               <td>    2.0733</td> <td>    4.201</td> <td>    0.494</td> <td> 0.630</td> <td>   -7.003</td> <td>   11.149</td>\n",
              "</tr>\n",
              "<tr>\n",
              "  <th>x2</th>               <td>    0.6700</td> <td>    0.895</td> <td>    0.749</td> <td> 0.467</td> <td>   -1.264</td> <td>    2.604</td>\n",
              "</tr>\n",
              "<tr>\n",
              "  <th>x3</th>               <td>    1.6752</td> <td>    1.952</td> <td>    0.858</td> <td> 0.406</td> <td>   -2.543</td> <td>    5.893</td>\n",
              "</tr>\n",
              "<tr>\n",
              "  <th>Worker's  Strike</th> <td>   29.7635</td> <td>   10.884</td> <td>    2.735</td> <td> 0.017</td> <td>    6.250</td> <td>   53.278</td>\n",
              "</tr>\n",
              "</table>\n",
              "<table class=\"simpletable\">\n",
              "<tr>\n",
              "  <th>Omnibus:</th>       <td> 5.222</td> <th>  Durbin-Watson:     </th> <td>   1.726</td>\n",
              "</tr>\n",
              "<tr>\n",
              "  <th>Prob(Omnibus):</th> <td> 0.073</td> <th>  Jarque-Bera (JB):  </th> <td>   3.075</td>\n",
              "</tr>\n",
              "<tr>\n",
              "  <th>Skew:</th>          <td>-0.979</td> <th>  Prob(JB):          </th> <td>   0.215</td>\n",
              "</tr>\n",
              "<tr>\n",
              "  <th>Kurtosis:</th>      <td> 3.514</td> <th>  Cond. No.          </th> <td>    88.0</td>\n",
              "</tr>\n",
              "</table><br/><br/>Warnings:<br/>[1] Standard Errors assume that the covariance matrix of the errors is correctly specified."
            ],
            "text/plain": [
              "<class 'statsmodels.iolib.summary.Summary'>\n",
              "\"\"\"\n",
              "                            OLS Regression Results                            \n",
              "==============================================================================\n",
              "Dep. Variable:                      y   R-squared:                       0.859\n",
              "Model:                            OLS   Adj. R-squared:                  0.816\n",
              "Method:                 Least Squares   F-statistic:                     19.87\n",
              "Date:                Sat, 29 Aug 2020   Prob (F-statistic):           1.91e-05\n",
              "Time:                        07:46:05   Log-Likelihood:                -66.557\n",
              "No. Observations:                  18   AIC:                             143.1\n",
              "Df Residuals:                      13   BIC:                             147.6\n",
              "Df Model:                           4                                         \n",
              "Covariance Type:            nonrobust                                         \n",
              "====================================================================================\n",
              "                       coef    std err          t      P>|t|      [0.025      0.975]\n",
              "------------------------------------------------------------------------------------\n",
              "const               -1.5612     14.635     -0.107      0.917     -33.179      30.057\n",
              "x1                   2.0733      4.201      0.494      0.630      -7.003      11.149\n",
              "x2                   0.6700      0.895      0.749      0.467      -1.264       2.604\n",
              "x3                   1.6752      1.952      0.858      0.406      -2.543       5.893\n",
              "Worker's  Strike    29.7635     10.884      2.735      0.017       6.250      53.278\n",
              "==============================================================================\n",
              "Omnibus:                        5.222   Durbin-Watson:                   1.726\n",
              "Prob(Omnibus):                  0.073   Jarque-Bera (JB):                3.075\n",
              "Skew:                          -0.979   Prob(JB):                        0.215\n",
              "Kurtosis:                       3.514   Cond. No.                         88.0\n",
              "==============================================================================\n",
              "\n",
              "Warnings:\n",
              "[1] Standard Errors assume that the covariance matrix of the errors is correctly specified.\n",
              "\"\"\""
            ]
          },
          "metadata": {
            "tags": []
          },
          "execution_count": 21
        }
      ]
    },
    {
      "cell_type": "markdown",
      "metadata": {
        "id": "-uNE0an_K5Xd",
        "colab_type": "text"
      },
      "source": [
        "Comparing  modified model with previous model, r-square value as well F-statistic is more in previous model, Hence previous model depict the relationship better.\n",
        "\n",
        "In this model also only one predictor \"Worker's Strike\" is important."
      ]
    },
    {
      "cell_type": "code",
      "metadata": {
        "id": "9ok4PISaK5Xd",
        "colab_type": "code",
        "colab": {
          "base_uri": "https://localhost:8080/",
          "height": 626
        },
        "outputId": "66fb4cf9-2cbf-4b96-f712-eacbe1deb24d"
      },
      "source": [
        "y_pred=model_modified.predict(X_modified)\n",
        "residual=y_pred-data['y']\n",
        "sb.residplot(data['obs'], residual,lowess=True, color=\"g\")\n",
        "plt.xticks(np.arange(0, 18+1, 1.0))"
      ],
      "execution_count": null,
      "outputs": [
        {
          "output_type": "execute_result",
          "data": {
            "text/plain": [
              "([<matplotlib.axis.XTick at 0x7fc66cad4438>,\n",
              "  <matplotlib.axis.XTick at 0x7fc66cad4400>,\n",
              "  <matplotlib.axis.XTick at 0x7fc66caceba8>,\n",
              "  <matplotlib.axis.XTick at 0x7fc66c2872e8>,\n",
              "  <matplotlib.axis.XTick at 0x7fc66c287710>,\n",
              "  <matplotlib.axis.XTick at 0x7fc66c287ba8>,\n",
              "  <matplotlib.axis.XTick at 0x7fc66c28d0f0>,\n",
              "  <matplotlib.axis.XTick at 0x7fc66c28d518>,\n",
              "  <matplotlib.axis.XTick at 0x7fc66c28d9b0>,\n",
              "  <matplotlib.axis.XTick at 0x7fc66c28de48>,\n",
              "  <matplotlib.axis.XTick at 0x7fc66c296320>,\n",
              "  <matplotlib.axis.XTick at 0x7fc66c2967b8>,\n",
              "  <matplotlib.axis.XTick at 0x7fc66c296c50>,\n",
              "  <matplotlib.axis.XTick at 0x7fc66c296cf8>,\n",
              "  <matplotlib.axis.XTick at 0x7fc66c28dda0>,\n",
              "  <matplotlib.axis.XTick at 0x7fc66c287eb8>,\n",
              "  <matplotlib.axis.XTick at 0x7fc66c29c278>,\n",
              "  <matplotlib.axis.XTick at 0x7fc66c29c7b8>,\n",
              "  <matplotlib.axis.XTick at 0x7fc66c29cc50>],\n",
              " <a list of 19 Text major ticklabel objects>)"
            ]
          },
          "metadata": {
            "tags": []
          },
          "execution_count": 22
        },
        {
          "output_type": "display_data",
          "data": {
            "image/png": "[encoded data removed]",
            "text/plain": [
              "<Figure size 432x288 with 1 Axes>"
            ]
          },
          "metadata": {
            "tags": [],
            "needs_background": "light"
          }
        }
      ]
    },
    {
      "cell_type": "markdown",
      "metadata": {
        "id": "_PzTczI9K5Xh",
        "colab_type": "text"
      },
      "source": [
        "From the above residula plot it can be seen that observation 18 has extremely large residual,which suggest that observation 18 in the dataset was incorrect and cannot be trusted for the size of the contract as well as the time required for completion."
      ]
    },
    {
      "cell_type": "code",
      "metadata": {
        "id": "uvjhOr2zK5Xi",
        "colab_type": "code",
        "colab": {
          "base_uri": "https://localhost:8080/",
          "height": 329
        },
        "outputId": "a40b9f20-059c-457d-aaf7-909e1fb775fd"
      },
      "source": [
        "# excluding 18th observation\n",
        "data_new=data[:17][:]\n",
        "print(data_new)"
      ],
      "execution_count": null,
      "outputs": [
        {
          "output_type": "stream",
          "text": [
            "    obs        x1  x2  x3  Worker's  Strike   y\n",
            "0     1  4.110874   7   7                 0  29\n",
            "1     2  4.394449  10   8                 0  15\n",
            "2     3  3.931826  14   5                 0  10\n",
            "3     4  3.931826   4   3                 0  15\n",
            "4     5  4.330733   5   6                 0  30\n",
            "5     6  6.621406  10  10                 0  45\n",
            "6     7  4.262680   5   3                 0   7\n",
            "7     8  4.394449   3   6                 0  21\n",
            "8     9  5.707110   8   8                 0  28\n",
            "9    10  4.709530   7   4                 0  30\n",
            "10   11  4.615121   8  10                 1  60\n",
            "11   12  5.303305  12  11                 1  70\n",
            "12   13  6.216606  15  12                 1  75\n",
            "13   14  7.090910  20  12                 1  90\n",
            "14   15  5.525453   8  12                 1  62\n",
            "15   16  5.993961  14  14                 1  72\n",
            "16   17  6.685861  17  12                 1  82\n"
          ],
          "name": "stdout"
        }
      ]
    },
    {
      "cell_type": "code",
      "metadata": {
        "id": "RMDzNvb_K5Xm",
        "colab_type": "code",
        "colab": {
          "base_uri": "https://localhost:8080/",
          "height": 537
        },
        "outputId": "98a356d1-6c1e-44bc-e600-bfdb41ccedbd"
      },
      "source": [
        "X_new=data_new[[\"x1\",\"x2\",\"x3\",\"Worker's  Strike\"]]\n",
        "X_new=sm.add_constant(X_new)        \n",
        "model_new= sm.OLS(data_new['y'],X_new).fit()         \n",
        "predictions_new= model_new.summary()      \n",
        "predictions_new"
      ],
      "execution_count": null,
      "outputs": [
        {
          "output_type": "stream",
          "text": [
            "/usr/local/lib/python3.6/dist-packages/scipy/stats/stats.py:1535: UserWarning: kurtosistest only valid for n>=20 ... continuing anyway, n=17\n",
            "  \"anyway, n=%i\" % int(n))\n"
          ],
          "name": "stderr"
        },
        {
          "output_type": "execute_result",
          "data": {
            "text/html": [
              "<table class=\"simpletable\">\n",
              "<caption>OLS Regression Results</caption>\n",
              "<tr>\n",
              "  <th>Dep. Variable:</th>            <td>y</td>        <th>  R-squared:         </th> <td>   0.950</td>\n",
              "</tr>\n",
              "<tr>\n",
              "  <th>Model:</th>                   <td>OLS</td>       <th>  Adj. R-squared:    </th> <td>   0.934</td>\n",
              "</tr>\n",
              "<tr>\n",
              "  <th>Method:</th>             <td>Least Squares</td>  <th>  F-statistic:       </th> <td>   57.25</td>\n",
              "</tr>\n",
              "<tr>\n",
              "  <th>Date:</th>             <td>Sat, 29 Aug 2020</td> <th>  Prob (F-statistic):</th> <td>1.02e-07</td>\n",
              "</tr>\n",
              "<tr>\n",
              "  <th>Time:</th>                 <td>07:46:05</td>     <th>  Log-Likelihood:    </th> <td> -54.496</td>\n",
              "</tr>\n",
              "<tr>\n",
              "  <th>No. Observations:</th>      <td>    17</td>      <th>  AIC:               </th> <td>   119.0</td>\n",
              "</tr>\n",
              "<tr>\n",
              "  <th>Df Residuals:</th>          <td>    12</td>      <th>  BIC:               </th> <td>   123.2</td>\n",
              "</tr>\n",
              "<tr>\n",
              "  <th>Df Model:</th>              <td>     4</td>      <th>                     </th>     <td> </td>   \n",
              "</tr>\n",
              "<tr>\n",
              "  <th>Covariance Type:</th>      <td>nonrobust</td>    <th>                     </th>     <td> </td>   \n",
              "</tr>\n",
              "</table>\n",
              "<table class=\"simpletable\">\n",
              "<tr>\n",
              "          <td></td>            <th>coef</th>     <th>std err</th>      <th>t</th>      <th>P>|t|</th>  <th>[0.025</th>    <th>0.975]</th>  \n",
              "</tr>\n",
              "<tr>\n",
              "  <th>const</th>            <td>  -26.4538</td> <td>   10.494</td> <td>   -2.521</td> <td> 0.027</td> <td>  -49.317</td> <td>   -3.590</td>\n",
              "</tr>\n",
              "<tr>\n",
              "  <th>x1</th>               <td>   10.2026</td> <td>    3.124</td> <td>    3.266</td> <td> 0.007</td> <td>    3.397</td> <td>   17.008</td>\n",
              "</tr>\n",
              "<tr>\n",
              "  <th>x2</th>               <td>   -0.0089</td> <td>    0.572</td> <td>   -0.016</td> <td> 0.988</td> <td>   -1.256</td> <td>    1.238</td>\n",
              "</tr>\n",
              "<tr>\n",
              "  <th>x3</th>               <td>    0.3640</td> <td>    1.239</td> <td>    0.294</td> <td> 0.774</td> <td>   -2.337</td> <td>    3.064</td>\n",
              "</tr>\n",
              "<tr>\n",
              "  <th>Worker's  Strike</th> <td>   34.8708</td> <td>    6.819</td> <td>    5.114</td> <td> 0.000</td> <td>   20.013</td> <td>   49.729</td>\n",
              "</tr>\n",
              "</table>\n",
              "<table class=\"simpletable\">\n",
              "<tr>\n",
              "  <th>Omnibus:</th>       <td> 0.165</td> <th>  Durbin-Watson:     </th> <td>   2.156</td>\n",
              "</tr>\n",
              "<tr>\n",
              "  <th>Prob(Omnibus):</th> <td> 0.921</td> <th>  Jarque-Bera (JB):  </th> <td>   0.364</td>\n",
              "</tr>\n",
              "<tr>\n",
              "  <th>Skew:</th>          <td> 0.134</td> <th>  Prob(JB):          </th> <td>   0.834</td>\n",
              "</tr>\n",
              "<tr>\n",
              "  <th>Kurtosis:</th>      <td> 2.335</td> <th>  Cond. No.          </th> <td>    94.4</td>\n",
              "</tr>\n",
              "</table><br/><br/>Warnings:<br/>[1] Standard Errors assume that the covariance matrix of the errors is correctly specified."
            ],
            "text/plain": [
              "<class 'statsmodels.iolib.summary.Summary'>\n",
              "\"\"\"\n",
              "                            OLS Regression Results                            \n",
              "==============================================================================\n",
              "Dep. Variable:                      y   R-squared:                       0.950\n",
              "Model:                            OLS   Adj. R-squared:                  0.934\n",
              "Method:                 Least Squares   F-statistic:                     57.25\n",
              "Date:                Sat, 29 Aug 2020   Prob (F-statistic):           1.02e-07\n",
              "Time:                        07:46:05   Log-Likelihood:                -54.496\n",
              "No. Observations:                  17   AIC:                             119.0\n",
              "Df Residuals:                      12   BIC:                             123.2\n",
              "Df Model:                           4                                         \n",
              "Covariance Type:            nonrobust                                         \n",
              "====================================================================================\n",
              "                       coef    std err          t      P>|t|      [0.025      0.975]\n",
              "------------------------------------------------------------------------------------\n",
              "const              -26.4538     10.494     -2.521      0.027     -49.317      -3.590\n",
              "x1                  10.2026      3.124      3.266      0.007       3.397      17.008\n",
              "x2                  -0.0089      0.572     -0.016      0.988      -1.256       1.238\n",
              "x3                   0.3640      1.239      0.294      0.774      -2.337       3.064\n",
              "Worker's  Strike    34.8708      6.819      5.114      0.000      20.013      49.729\n",
              "==============================================================================\n",
              "Omnibus:                        0.165   Durbin-Watson:                   2.156\n",
              "Prob(Omnibus):                  0.921   Jarque-Bera (JB):                0.364\n",
              "Skew:                           0.134   Prob(JB):                        0.834\n",
              "Kurtosis:                       2.335   Cond. No.                         94.4\n",
              "==============================================================================\n",
              "\n",
              "Warnings:\n",
              "[1] Standard Errors assume that the covariance matrix of the errors is correctly specified.\n",
              "\"\"\""
            ]
          },
          "metadata": {
            "tags": []
          },
          "execution_count": 24
        }
      ]
    },
    {
      "cell_type": "markdown",
      "metadata": {
        "id": "hRdpb2kGK5Xs",
        "colab_type": "text"
      },
      "source": [
        "From the above results it can be seen that after excluding 18th observation model fits better as r-square and F-statistic value both increases and also p-value for x1=0.007/2 <0.005, so it tells variable x1 is also important with worker's strike"
      ]
    },
    {
      "cell_type": "markdown",
      "metadata": {
        "id": "dhBsq-cJK5Xs",
        "colab_type": "text"
      },
      "source": [
        "We need to estimate the time required to complete a construction project during non-strike period when x1 = $65,000, x2 = 7 days, and x3 = 5 during non strike period"
      ]
    },
    {
      "cell_type": "code",
      "metadata": {
        "id": "nypzgx1jK5Xt",
        "colab_type": "code",
        "colab": {}
      },
      "source": [
        "x1=np.log(65+1)\n",
        "x2=7\n",
        "x3=5\n",
        "x4=0\n"
      ],
      "execution_count": null,
      "outputs": []
    },
    {
      "cell_type": "markdown",
      "metadata": {
        "id": "LR7zt42zK5Xy",
        "colab_type": "text"
      },
      "source": [
        "Equation was y=10.2026*x1 -0.0089*x2 +0.3640*x3 +34.8708*(Worker's Strike)-26.4538"
      ]
    },
    {
      "cell_type": "code",
      "metadata": {
        "id": "l_FQVcSiK5Xz",
        "colab_type": "code",
        "colab": {
          "base_uri": "https://localhost:8080/",
          "height": 35
        },
        "outputId": "b123011a-51d9-45cc-d9b1-5a64aca284f2"
      },
      "source": [
        "y=10.2026*x1 -0.0089*x2 +0.3640*x3 +34.8708*(x4)-26.4538\n",
        "print(y)"
      ],
      "execution_count": null,
      "outputs": [
        {
          "output_type": "stream",
          "text": [
            "18.049271470998804\n"
          ],
          "name": "stdout"
        }
      ]
    },
    {
      "cell_type": "markdown",
      "metadata": {
        "id": "b0skLa3hK5X3",
        "colab_type": "text"
      },
      "source": [
        "So it will take almost 18 days to complete construction project"
      ]
    },
    {
      "cell_type": "markdown",
      "metadata": {
        "id": "MG3u6TWBK5X4",
        "colab_type": "text"
      },
      "source": [
        "Final model expression after applying log transformation for x1 and removing 18th observation final equation is\n",
        "\n",
        "y=10.2026x1 -0.0089x2 +0.3640x3 +34.8708(Worker's Strike)-26.4538\n",
        "\n",
        "This equation have **r-square value as 0.95** which is very high and also F-value very high as 57.25 and p-value with it as very less as 1.02*10(-7) which signifies that this relationship is reliable"
      ]
    },
    {
      "cell_type": "code",
      "metadata": {
        "id": "B5GH9xRdK5X5",
        "colab_type": "code",
        "colab": {}
      },
      "source": [
        ""
      ],
      "execution_count": null,
      "outputs": []
    }
  ]
}